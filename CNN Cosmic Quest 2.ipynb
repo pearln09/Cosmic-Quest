{
 "cells": [
  {
   "cell_type": "code",
   "execution_count": 1,
   "id": "c93b999e-25e2-4f42-a430-ee9a03c35d5a",
   "metadata": {},
   "outputs": [
    {
     "name": "stdout",
     "output_type": "stream",
     "text": [
      "WARNING:tensorflow:From C:\\Users\\ishaa\\anaconda4\\Lib\\site-packages\\keras\\src\\losses.py:2976: The name tf.losses.sparse_softmax_cross_entropy is deprecated. Please use tf.compat.v1.losses.sparse_softmax_cross_entropy instead.\n",
      "\n"
     ]
    }
   ],
   "source": [
    "from numpy import loadtxt\n",
    "from tensorflow.keras.models import Sequential\n",
    "from tensorflow.keras.layers import Dense\n",
    "from keras.layers import Dropout\n",
    "from keras.optimizers import SGD, Adagrad, RMSprop, Adam, Nadam"
   ]
  },
  {
   "cell_type": "code",
   "execution_count": 2,
   "id": "e3db5e0a-fa7e-4aa3-9fa9-03c9cdcba148",
   "metadata": {},
   "outputs": [],
   "source": [
    "dataset=loadtxt(\"pima-indians-diabetes.csv\",delimiter=',')"
   ]
  },
  {
   "cell_type": "code",
   "execution_count": 3,
   "id": "26f941b1-ae19-40db-93b9-8cf29567c7bd",
   "metadata": {},
   "outputs": [],
   "source": [
    "X=dataset[:,:-1]\n",
    "y=dataset[:,-1]"
   ]
  },
  {
   "cell_type": "code",
   "execution_count": 4,
   "id": "cebfcccb-17bd-486f-b594-f7fac60f788b",
   "metadata": {},
   "outputs": [
    {
     "name": "stdout",
     "output_type": "stream",
     "text": [
      "Shape of X: (768, 8)\n",
      "Shape of y: (768,)\n"
     ]
    }
   ],
   "source": [
    "print(f\"Shape of X: {X.shape}\")\n",
    "print(f\"Shape of y: {y.shape}\")"
   ]
  },
  {
   "cell_type": "code",
   "execution_count": 5,
   "id": "413a6cb0-e3cc-43a4-b438-d99878a0ba94",
   "metadata": {},
   "outputs": [],
   "source": [
    "from sklearn.model_selection import train_test_split\n",
    "X_train,X_test,y_train,y_test=train_test_split(X,y,test_size=0.2,random_state=42)"
   ]
  },
  {
   "cell_type": "code",
   "execution_count": 6,
   "id": "28fdfd6e-8731-47cc-9342-906e4079fb67",
   "metadata": {},
   "outputs": [
    {
     "name": "stdout",
     "output_type": "stream",
     "text": [
      "Shape of X_train: (614, 8)\n",
      "Shape of X_test: (154, 8)\n",
      "Shape of y_train: (614,)\n",
      "Shape of y_test: (154,)\n"
     ]
    }
   ],
   "source": [
    "print(f\"Shape of X_train: {X_train.shape}\")\n",
    "print(f\"Shape of X_test: {X_test.shape}\")\n",
    "print(f\"Shape of y_train: {y_train.shape}\")\n",
    "print(f\"Shape of y_test: {y_test.shape}\")"
   ]
  },
  {
   "cell_type": "code",
   "execution_count": 7,
   "id": "794001c6-b13b-4525-9f13-f6f476f730b6",
   "metadata": {},
   "outputs": [],
   "source": [
    "from sklearn.preprocessing import StandardScaler\n",
    "\n",
    "scaler = StandardScaler()\n",
    "X_train = scaler.fit_transform(X_train)\n",
    "X_test = scaler.transform(X_test)"
   ]
  },
  {
   "cell_type": "code",
   "execution_count": 8,
   "id": "3c782ca2-066a-40bc-b2d1-d241828e17bc",
   "metadata": {},
   "outputs": [],
   "source": [
    "def create_model(optimizer='adam'):\n",
    "    model=Sequential()\n",
    "    model.add(Dense(24,input_shape=(8,),activation='relu'))\n",
    "    model.add(Dropout(0.5))\n",
    "    model.add(Dense(16,activation='relu'))\n",
    "    model.add(Dropout(0.5))\n",
    "    model.add(Dense(1,activation='sigmoid'))\n",
    "    model.compile(loss='binary_crossentropy', optimizer=optimizer, metrics=['accuracy'])\n",
    "    return model"
   ]
  },
  {
   "cell_type": "code",
   "execution_count": 9,
   "id": "9b3c182f-b140-438c-8542-c85d48d950c2",
   "metadata": {},
   "outputs": [],
   "source": [
    "optimizers = {\n",
    "    'SGD': SGD(learning_rate=0.01, momentum=0.9),\n",
    "    'Adagrad': Adagrad(learning_rate=0.01),\n",
    "    'RMSprop': RMSprop(learning_rate=0.001),\n",
    "    'Adam': Adam(learning_rate=0.001),\n",
    "    'Nadam': Nadam(learning_rate=0.001)\n",
    "}\n"
   ]
  },
  {
   "cell_type": "code",
   "execution_count": 10,
   "id": "47c8c28e-a867-4b74-b028-2c48621f2e01",
   "metadata": {},
   "outputs": [
    {
     "name": "stdout",
     "output_type": "stream",
     "text": [
      "Training with SGD optimizer...\n",
      "WARNING:tensorflow:From C:\\Users\\ishaa\\anaconda4\\Lib\\site-packages\\keras\\src\\backend.py:873: The name tf.get_default_graph is deprecated. Please use tf.compat.v1.get_default_graph instead.\n",
      "\n",
      "WARNING:tensorflow:From C:\\Users\\ishaa\\anaconda4\\Lib\\site-packages\\keras\\src\\utils\\tf_utils.py:492: The name tf.ragged.RaggedTensorValue is deprecated. Please use tf.compat.v1.ragged.RaggedTensorValue instead.\n",
      "\n",
      "WARNING:tensorflow:From C:\\Users\\ishaa\\anaconda4\\Lib\\site-packages\\keras\\src\\engine\\base_layer_utils.py:384: The name tf.executing_eagerly_outside_functions is deprecated. Please use tf.compat.v1.executing_eagerly_outside_functions instead.\n",
      "\n",
      "SGD optimizer - Accuracy: 0.7597\n",
      "Training with Adagrad optimizer...\n",
      "Adagrad optimizer - Accuracy: 0.7922\n",
      "Training with RMSprop optimizer...\n",
      "RMSprop optimizer - Accuracy: 0.7403\n",
      "Training with Adam optimizer...\n",
      "Adam optimizer - Accuracy: 0.7727\n",
      "Training with Nadam optimizer...\n",
      "Nadam optimizer - Accuracy: 0.7857\n"
     ]
    }
   ],
   "source": [
    "for opt_name, opt in optimizers.items():\n",
    "    print(f\"Training with {opt_name} optimizer...\")\n",
    "    model = create_model(opt)\n",
    "    model.fit(X_train, y_train, epochs=150, batch_size=10, verbose=0)\n",
    "    loss, accuracy = model.evaluate(X_test, y_test, verbose=0)\n",
    "    print(f\"{opt_name} optimizer - Accuracy: {accuracy:.4f}\")"
   ]
  },
  {
   "cell_type": "code",
   "execution_count": null,
   "id": "e518cda2-f85f-438c-ac31-8496b2b7f443",
   "metadata": {},
   "outputs": [],
   "source": []
  }
 ],
 "metadata": {
  "kernelspec": {
   "display_name": "Python 3 (ipykernel)",
   "language": "python",
   "name": "python3"
  },
  "language_info": {
   "codemirror_mode": {
    "name": "ipython",
    "version": 3
   },
   "file_extension": ".py",
   "mimetype": "text/x-python",
   "name": "python",
   "nbconvert_exporter": "python",
   "pygments_lexer": "ipython3",
   "version": "3.11.7"
  }
 },
 "nbformat": 4,
 "nbformat_minor": 5
}
