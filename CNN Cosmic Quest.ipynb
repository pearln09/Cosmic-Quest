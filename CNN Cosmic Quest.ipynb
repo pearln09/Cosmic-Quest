{
 "cells": [
  {
   "cell_type": "code",
   "execution_count": 208,
   "id": "bb59a100-fe46-407b-b385-29de0cc3cb9a",
   "metadata": {},
   "outputs": [],
   "source": [
    "from numpy import loadtxt\n",
    "from tensorflow.keras.models import Sequential\n",
    "from tensorflow.keras.layers import Dense"
   ]
  },
  {
   "cell_type": "code",
   "execution_count": 209,
   "id": "f9c44076-1767-4a25-a8e4-a91a32d934fe",
   "metadata": {},
   "outputs": [],
   "source": [
    "dataset=loadtxt(\"pima-indians-diabetes.csv\",delimiter=',')"
   ]
  },
  {
   "cell_type": "code",
   "execution_count": 210,
   "id": "b43aef84-9ccc-451b-be7e-721dbce37695",
   "metadata": {},
   "outputs": [],
   "source": [
    "X=dataset[:,:-1]\n",
    "y=dataset[:,-1]"
   ]
  },
  {
   "cell_type": "code",
   "execution_count": 211,
   "id": "4f813b14-0113-49a7-b820-465c7413487d",
   "metadata": {},
   "outputs": [
    {
     "name": "stdout",
     "output_type": "stream",
     "text": [
      "Shape of X: (768, 8)\n",
      "Shape of y: (768,)\n"
     ]
    }
   ],
   "source": [
    "print(f\"Shape of X: {X.shape}\")\n",
    "print(f\"Shape of y: {y.shape}\")"
   ]
  },
  {
   "cell_type": "code",
   "execution_count": 212,
   "id": "c8a30778-a7a0-4a5d-97ce-4912e5f3b300",
   "metadata": {},
   "outputs": [],
   "source": [
    "from sklearn.model_selection import train_test_split\n",
    "X_train,X_test,y_train,y_test=train_test_split(X,y,test_size=0.2,random_state=42)"
   ]
  },
  {
   "cell_type": "code",
   "execution_count": 213,
   "id": "d1a7afa9-cd8f-4323-a5b8-3c6a4d5488ca",
   "metadata": {},
   "outputs": [
    {
     "name": "stdout",
     "output_type": "stream",
     "text": [
      "Shape of X_train: (614, 8)\n",
      "Shape of X_test: (154, 8)\n",
      "Shape of y_train: (614,)\n",
      "Shape of y_test: (154,)\n"
     ]
    }
   ],
   "source": [
    "print(f\"Shape of X_train: {X_train.shape}\")\n",
    "print(f\"Shape of X_test: {X_test.shape}\")\n",
    "print(f\"Shape of y_train: {y_train.shape}\")\n",
    "print(f\"Shape of y_test: {y_test.shape}\")"
   ]
  },
  {
   "cell_type": "code",
   "execution_count": 214,
   "id": "0afee00b-8ed6-46f5-9d94-e042673fe0ed",
   "metadata": {},
   "outputs": [],
   "source": [
    "from sklearn.preprocessing import StandardScaler\n",
    "\n",
    "scaler = StandardScaler()\n",
    "X_train = scaler.fit_transform(X_train)\n",
    "X_test = scaler.transform(X_test)"
   ]
  },
  {
   "cell_type": "code",
   "execution_count": 215,
   "id": "1e2b173c-788f-4be8-8426-c4f967099d8a",
   "metadata": {},
   "outputs": [],
   "source": [
    "model=Sequential()\n",
    "model.add(Dense(12,input_shape=(8,),activation='relu'))\n",
    "model.add(Dense(8,activation='relu'))\n",
    "model.add(Dense(1,activation='sigmoid'))"
   ]
  },
  {
   "cell_type": "code",
   "execution_count": 216,
   "id": "d8dc030b-5366-4bbe-86ae-ab8248011d1a",
   "metadata": {},
   "outputs": [],
   "source": [
    "model.compile(loss='binary_crossentropy', optimizer='adam', metrics=['accuracy'])"
   ]
  },
  {
   "cell_type": "code",
   "execution_count": null,
   "id": "587206f4-abfc-4129-9d29-5341a8840e1f",
   "metadata": {},
   "outputs": [],
   "source": []
  },
  {
   "cell_type": "code",
   "execution_count": 217,
   "id": "281d7efe-139c-4269-af00-0a18d73f32fb",
   "metadata": {},
   "outputs": [
    {
     "data": {
      "text/plain": [
       "<keras.src.callbacks.History at 0x1efe5d65f90>"
      ]
     },
     "execution_count": 217,
     "metadata": {},
     "output_type": "execute_result"
    }
   ],
   "source": [
    "model.fit(X_train,y_train,epochs=150,batch_size=10,verbose=0)"
   ]
  },
  {
   "cell_type": "code",
   "execution_count": null,
   "id": "0d567c5d-685e-4ab6-bb90-1db53836b8e8",
   "metadata": {},
   "outputs": [],
   "source": []
  },
  {
   "cell_type": "code",
   "execution_count": 218,
   "id": "865d04cb-2cc2-448a-82bc-9d9cf3f353c5",
   "metadata": {},
   "outputs": [
    {
     "name": "stdout",
     "output_type": "stream",
     "text": [
      "Accuracy:84.201956\n"
     ]
    }
   ],
   "source": [
    "_,accuracy=model.evaluate(X_train,y_train,verbose=0)\n",
    "print(\"Accuracy:%2f\"%(accuracy*100))"
   ]
  },
  {
   "cell_type": "code",
   "execution_count": 219,
   "id": "2b898ae1-3aa6-4121-8228-aee4e3a169a6",
   "metadata": {},
   "outputs": [
    {
     "name": "stdout",
     "output_type": "stream",
     "text": [
      "5/5 [==============================] - 0s 9ms/step - loss: 0.6390 - accuracy: 0.7208\n",
      "Test loss: 0.6390094757080078\n",
      "Test accuracy: 0.7207792401313782\n"
     ]
    }
   ],
   "source": [
    "loss, accuracy = model.evaluate(X_test, y_test, verbose=1)\n",
    "print(f\"Test loss: {loss}\")\n",
    "print(f\"Test accuracy: {accuracy}\")"
   ]
  },
  {
   "cell_type": "code",
   "execution_count": null,
   "id": "6d14cb1f-b9c8-451c-93cb-55000f862bc9",
   "metadata": {},
   "outputs": [],
   "source": []
  }
 ],
 "metadata": {
  "kernelspec": {
   "display_name": "Python 3 (ipykernel)",
   "language": "python",
   "name": "python3"
  },
  "language_info": {
   "codemirror_mode": {
    "name": "ipython",
    "version": 3
   },
   "file_extension": ".py",
   "mimetype": "text/x-python",
   "name": "python",
   "nbconvert_exporter": "python",
   "pygments_lexer": "ipython3",
   "version": "3.11.7"
  }
 },
 "nbformat": 4,
 "nbformat_minor": 5
}
